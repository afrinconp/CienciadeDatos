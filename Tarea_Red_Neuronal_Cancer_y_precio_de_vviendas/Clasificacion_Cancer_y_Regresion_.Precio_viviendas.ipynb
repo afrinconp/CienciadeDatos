{
 "cells": [
  {
   "cell_type": "markdown",
   "id": "aec22f66",
   "metadata": {},
   "source": [
    "# Andres Felipe Rincon Prieto"
   ]
  },
  {
   "cell_type": "markdown",
   "id": "ef0cdb78",
   "metadata": {},
   "source": [
    "# 1. Clasificación del cancer del seno"
   ]
  },
  {
   "cell_type": "code",
   "execution_count": 26,
   "id": "0590cccd",
   "metadata": {},
   "outputs": [],
   "source": [
    "try:\n",
    "  %tensorflow_version 2.x\n",
    "except Exception:\n",
    "  pass"
   ]
  },
  {
   "cell_type": "code",
   "execution_count": 27,
   "id": "b70b7337",
   "metadata": {},
   "outputs": [
    {
     "name": "stdout",
     "output_type": "stream",
     "text": [
      "2.3.0\n"
     ]
    }
   ],
   "source": [
    "from __future__ import absolute_import, division, print_function, unicode_literals\n",
    "#\n",
    "import pandas as pd\n",
    "import matplotlib.pyplot as plt\n",
    "import seaborn as sns\n",
    "import tensorflow as tf\n",
    "#\n",
    "from tensorflow.keras.models import Sequential\n",
    "#\n",
    "from tensorflow.keras.layers import Dense, Dropout\n",
    "#\n",
    "from tensorflow.keras.utils import plot_model\n",
    "#\n",
    "from sklearn.preprocessing import LabelEncoder\n",
    "from sklearn.model_selection import train_test_split\n",
    "from sklearn.preprocessing import StandardScaler\n",
    "from sklearn.metrics import confusion_matrix\n",
    "#\n",
    "print(tf.__version__)"
   ]
  },
  {
   "cell_type": "code",
   "execution_count": 28,
   "id": "82aa5dd2",
   "metadata": {},
   "outputs": [
    {
     "data": {
      "text/html": [
       "<div>\n",
       "<style scoped>\n",
       "    .dataframe tbody tr th:only-of-type {\n",
       "        vertical-align: middle;\n",
       "    }\n",
       "\n",
       "    .dataframe tbody tr th {\n",
       "        vertical-align: top;\n",
       "    }\n",
       "\n",
       "    .dataframe thead th {\n",
       "        text-align: right;\n",
       "    }\n",
       "</style>\n",
       "<table border=\"1\" class=\"dataframe\">\n",
       "  <thead>\n",
       "    <tr style=\"text-align: right;\">\n",
       "      <th></th>\n",
       "      <th>id</th>\n",
       "      <th>diagnosis</th>\n",
       "      <th>radius_mean</th>\n",
       "      <th>texture_mean</th>\n",
       "      <th>perimeter_mean</th>\n",
       "      <th>area_mean</th>\n",
       "      <th>smoothness_mean</th>\n",
       "      <th>compactness_mean</th>\n",
       "      <th>concavity_mean</th>\n",
       "      <th>concave points_mean</th>\n",
       "      <th>...</th>\n",
       "      <th>radius_worst</th>\n",
       "      <th>texture_worst</th>\n",
       "      <th>perimeter_worst</th>\n",
       "      <th>area_worst</th>\n",
       "      <th>smoothness_worst</th>\n",
       "      <th>compactness_worst</th>\n",
       "      <th>concavity_worst</th>\n",
       "      <th>concave points_worst</th>\n",
       "      <th>symmetry_worst</th>\n",
       "      <th>fractal_dimension_worst</th>\n",
       "    </tr>\n",
       "  </thead>\n",
       "  <tbody>\n",
       "    <tr>\n",
       "      <th>0</th>\n",
       "      <td>842302</td>\n",
       "      <td>M</td>\n",
       "      <td>17.99</td>\n",
       "      <td>10.38</td>\n",
       "      <td>122.80</td>\n",
       "      <td>1001.0</td>\n",
       "      <td>0.11840</td>\n",
       "      <td>0.27760</td>\n",
       "      <td>0.30010</td>\n",
       "      <td>0.14710</td>\n",
       "      <td>...</td>\n",
       "      <td>25.380</td>\n",
       "      <td>17.33</td>\n",
       "      <td>184.60</td>\n",
       "      <td>2019.0</td>\n",
       "      <td>0.16220</td>\n",
       "      <td>0.66560</td>\n",
       "      <td>0.7119</td>\n",
       "      <td>0.2654</td>\n",
       "      <td>0.4601</td>\n",
       "      <td>0.11890</td>\n",
       "    </tr>\n",
       "    <tr>\n",
       "      <th>1</th>\n",
       "      <td>842517</td>\n",
       "      <td>M</td>\n",
       "      <td>20.57</td>\n",
       "      <td>17.77</td>\n",
       "      <td>132.90</td>\n",
       "      <td>1326.0</td>\n",
       "      <td>0.08474</td>\n",
       "      <td>0.07864</td>\n",
       "      <td>0.08690</td>\n",
       "      <td>0.07017</td>\n",
       "      <td>...</td>\n",
       "      <td>24.990</td>\n",
       "      <td>23.41</td>\n",
       "      <td>158.80</td>\n",
       "      <td>1956.0</td>\n",
       "      <td>0.12380</td>\n",
       "      <td>0.18660</td>\n",
       "      <td>0.2416</td>\n",
       "      <td>0.1860</td>\n",
       "      <td>0.2750</td>\n",
       "      <td>0.08902</td>\n",
       "    </tr>\n",
       "    <tr>\n",
       "      <th>2</th>\n",
       "      <td>84300903</td>\n",
       "      <td>M</td>\n",
       "      <td>19.69</td>\n",
       "      <td>21.25</td>\n",
       "      <td>130.00</td>\n",
       "      <td>1203.0</td>\n",
       "      <td>0.10960</td>\n",
       "      <td>0.15990</td>\n",
       "      <td>0.19740</td>\n",
       "      <td>0.12790</td>\n",
       "      <td>...</td>\n",
       "      <td>23.570</td>\n",
       "      <td>25.53</td>\n",
       "      <td>152.50</td>\n",
       "      <td>1709.0</td>\n",
       "      <td>0.14440</td>\n",
       "      <td>0.42450</td>\n",
       "      <td>0.4504</td>\n",
       "      <td>0.2430</td>\n",
       "      <td>0.3613</td>\n",
       "      <td>0.08758</td>\n",
       "    </tr>\n",
       "    <tr>\n",
       "      <th>3</th>\n",
       "      <td>84348301</td>\n",
       "      <td>M</td>\n",
       "      <td>11.42</td>\n",
       "      <td>20.38</td>\n",
       "      <td>77.58</td>\n",
       "      <td>386.1</td>\n",
       "      <td>0.14250</td>\n",
       "      <td>0.28390</td>\n",
       "      <td>0.24140</td>\n",
       "      <td>0.10520</td>\n",
       "      <td>...</td>\n",
       "      <td>14.910</td>\n",
       "      <td>26.50</td>\n",
       "      <td>98.87</td>\n",
       "      <td>567.7</td>\n",
       "      <td>0.20980</td>\n",
       "      <td>0.86630</td>\n",
       "      <td>0.6869</td>\n",
       "      <td>0.2575</td>\n",
       "      <td>0.6638</td>\n",
       "      <td>0.17300</td>\n",
       "    </tr>\n",
       "    <tr>\n",
       "      <th>4</th>\n",
       "      <td>84358402</td>\n",
       "      <td>M</td>\n",
       "      <td>20.29</td>\n",
       "      <td>14.34</td>\n",
       "      <td>135.10</td>\n",
       "      <td>1297.0</td>\n",
       "      <td>0.10030</td>\n",
       "      <td>0.13280</td>\n",
       "      <td>0.19800</td>\n",
       "      <td>0.10430</td>\n",
       "      <td>...</td>\n",
       "      <td>22.540</td>\n",
       "      <td>16.67</td>\n",
       "      <td>152.20</td>\n",
       "      <td>1575.0</td>\n",
       "      <td>0.13740</td>\n",
       "      <td>0.20500</td>\n",
       "      <td>0.4000</td>\n",
       "      <td>0.1625</td>\n",
       "      <td>0.2364</td>\n",
       "      <td>0.07678</td>\n",
       "    </tr>\n",
       "    <tr>\n",
       "      <th>...</th>\n",
       "      <td>...</td>\n",
       "      <td>...</td>\n",
       "      <td>...</td>\n",
       "      <td>...</td>\n",
       "      <td>...</td>\n",
       "      <td>...</td>\n",
       "      <td>...</td>\n",
       "      <td>...</td>\n",
       "      <td>...</td>\n",
       "      <td>...</td>\n",
       "      <td>...</td>\n",
       "      <td>...</td>\n",
       "      <td>...</td>\n",
       "      <td>...</td>\n",
       "      <td>...</td>\n",
       "      <td>...</td>\n",
       "      <td>...</td>\n",
       "      <td>...</td>\n",
       "      <td>...</td>\n",
       "      <td>...</td>\n",
       "      <td>...</td>\n",
       "    </tr>\n",
       "    <tr>\n",
       "      <th>564</th>\n",
       "      <td>926424</td>\n",
       "      <td>M</td>\n",
       "      <td>21.56</td>\n",
       "      <td>22.39</td>\n",
       "      <td>142.00</td>\n",
       "      <td>1479.0</td>\n",
       "      <td>0.11100</td>\n",
       "      <td>0.11590</td>\n",
       "      <td>0.24390</td>\n",
       "      <td>0.13890</td>\n",
       "      <td>...</td>\n",
       "      <td>25.450</td>\n",
       "      <td>26.40</td>\n",
       "      <td>166.10</td>\n",
       "      <td>2027.0</td>\n",
       "      <td>0.14100</td>\n",
       "      <td>0.21130</td>\n",
       "      <td>0.4107</td>\n",
       "      <td>0.2216</td>\n",
       "      <td>0.2060</td>\n",
       "      <td>0.07115</td>\n",
       "    </tr>\n",
       "    <tr>\n",
       "      <th>565</th>\n",
       "      <td>926682</td>\n",
       "      <td>M</td>\n",
       "      <td>20.13</td>\n",
       "      <td>28.25</td>\n",
       "      <td>131.20</td>\n",
       "      <td>1261.0</td>\n",
       "      <td>0.09780</td>\n",
       "      <td>0.10340</td>\n",
       "      <td>0.14400</td>\n",
       "      <td>0.09791</td>\n",
       "      <td>...</td>\n",
       "      <td>23.690</td>\n",
       "      <td>38.25</td>\n",
       "      <td>155.00</td>\n",
       "      <td>1731.0</td>\n",
       "      <td>0.11660</td>\n",
       "      <td>0.19220</td>\n",
       "      <td>0.3215</td>\n",
       "      <td>0.1628</td>\n",
       "      <td>0.2572</td>\n",
       "      <td>0.06637</td>\n",
       "    </tr>\n",
       "    <tr>\n",
       "      <th>566</th>\n",
       "      <td>926954</td>\n",
       "      <td>M</td>\n",
       "      <td>16.60</td>\n",
       "      <td>28.08</td>\n",
       "      <td>108.30</td>\n",
       "      <td>858.1</td>\n",
       "      <td>0.08455</td>\n",
       "      <td>0.10230</td>\n",
       "      <td>0.09251</td>\n",
       "      <td>0.05302</td>\n",
       "      <td>...</td>\n",
       "      <td>18.980</td>\n",
       "      <td>34.12</td>\n",
       "      <td>126.70</td>\n",
       "      <td>1124.0</td>\n",
       "      <td>0.11390</td>\n",
       "      <td>0.30940</td>\n",
       "      <td>0.3403</td>\n",
       "      <td>0.1418</td>\n",
       "      <td>0.2218</td>\n",
       "      <td>0.07820</td>\n",
       "    </tr>\n",
       "    <tr>\n",
       "      <th>567</th>\n",
       "      <td>927241</td>\n",
       "      <td>M</td>\n",
       "      <td>20.60</td>\n",
       "      <td>29.33</td>\n",
       "      <td>140.10</td>\n",
       "      <td>1265.0</td>\n",
       "      <td>0.11780</td>\n",
       "      <td>0.27700</td>\n",
       "      <td>0.35140</td>\n",
       "      <td>0.15200</td>\n",
       "      <td>...</td>\n",
       "      <td>25.740</td>\n",
       "      <td>39.42</td>\n",
       "      <td>184.60</td>\n",
       "      <td>1821.0</td>\n",
       "      <td>0.16500</td>\n",
       "      <td>0.86810</td>\n",
       "      <td>0.9387</td>\n",
       "      <td>0.2650</td>\n",
       "      <td>0.4087</td>\n",
       "      <td>0.12400</td>\n",
       "    </tr>\n",
       "    <tr>\n",
       "      <th>568</th>\n",
       "      <td>92751</td>\n",
       "      <td>B</td>\n",
       "      <td>7.76</td>\n",
       "      <td>24.54</td>\n",
       "      <td>47.92</td>\n",
       "      <td>181.0</td>\n",
       "      <td>0.05263</td>\n",
       "      <td>0.04362</td>\n",
       "      <td>0.00000</td>\n",
       "      <td>0.00000</td>\n",
       "      <td>...</td>\n",
       "      <td>9.456</td>\n",
       "      <td>30.37</td>\n",
       "      <td>59.16</td>\n",
       "      <td>268.6</td>\n",
       "      <td>0.08996</td>\n",
       "      <td>0.06444</td>\n",
       "      <td>0.0000</td>\n",
       "      <td>0.0000</td>\n",
       "      <td>0.2871</td>\n",
       "      <td>0.07039</td>\n",
       "    </tr>\n",
       "  </tbody>\n",
       "</table>\n",
       "<p>569 rows × 32 columns</p>\n",
       "</div>"
      ],
      "text/plain": [
       "           id diagnosis  radius_mean  texture_mean  perimeter_mean  area_mean  \\\n",
       "0      842302         M        17.99         10.38          122.80     1001.0   \n",
       "1      842517         M        20.57         17.77          132.90     1326.0   \n",
       "2    84300903         M        19.69         21.25          130.00     1203.0   \n",
       "3    84348301         M        11.42         20.38           77.58      386.1   \n",
       "4    84358402         M        20.29         14.34          135.10     1297.0   \n",
       "..        ...       ...          ...           ...             ...        ...   \n",
       "564    926424         M        21.56         22.39          142.00     1479.0   \n",
       "565    926682         M        20.13         28.25          131.20     1261.0   \n",
       "566    926954         M        16.60         28.08          108.30      858.1   \n",
       "567    927241         M        20.60         29.33          140.10     1265.0   \n",
       "568     92751         B         7.76         24.54           47.92      181.0   \n",
       "\n",
       "     smoothness_mean  compactness_mean  concavity_mean  concave points_mean  \\\n",
       "0            0.11840           0.27760         0.30010              0.14710   \n",
       "1            0.08474           0.07864         0.08690              0.07017   \n",
       "2            0.10960           0.15990         0.19740              0.12790   \n",
       "3            0.14250           0.28390         0.24140              0.10520   \n",
       "4            0.10030           0.13280         0.19800              0.10430   \n",
       "..               ...               ...             ...                  ...   \n",
       "564          0.11100           0.11590         0.24390              0.13890   \n",
       "565          0.09780           0.10340         0.14400              0.09791   \n",
       "566          0.08455           0.10230         0.09251              0.05302   \n",
       "567          0.11780           0.27700         0.35140              0.15200   \n",
       "568          0.05263           0.04362         0.00000              0.00000   \n",
       "\n",
       "     ...  radius_worst  texture_worst  perimeter_worst  area_worst  \\\n",
       "0    ...        25.380          17.33           184.60      2019.0   \n",
       "1    ...        24.990          23.41           158.80      1956.0   \n",
       "2    ...        23.570          25.53           152.50      1709.0   \n",
       "3    ...        14.910          26.50            98.87       567.7   \n",
       "4    ...        22.540          16.67           152.20      1575.0   \n",
       "..   ...           ...            ...              ...         ...   \n",
       "564  ...        25.450          26.40           166.10      2027.0   \n",
       "565  ...        23.690          38.25           155.00      1731.0   \n",
       "566  ...        18.980          34.12           126.70      1124.0   \n",
       "567  ...        25.740          39.42           184.60      1821.0   \n",
       "568  ...         9.456          30.37            59.16       268.6   \n",
       "\n",
       "     smoothness_worst  compactness_worst  concavity_worst  \\\n",
       "0             0.16220            0.66560           0.7119   \n",
       "1             0.12380            0.18660           0.2416   \n",
       "2             0.14440            0.42450           0.4504   \n",
       "3             0.20980            0.86630           0.6869   \n",
       "4             0.13740            0.20500           0.4000   \n",
       "..                ...                ...              ...   \n",
       "564           0.14100            0.21130           0.4107   \n",
       "565           0.11660            0.19220           0.3215   \n",
       "566           0.11390            0.30940           0.3403   \n",
       "567           0.16500            0.86810           0.9387   \n",
       "568           0.08996            0.06444           0.0000   \n",
       "\n",
       "     concave points_worst  symmetry_worst  fractal_dimension_worst  \n",
       "0                  0.2654          0.4601                  0.11890  \n",
       "1                  0.1860          0.2750                  0.08902  \n",
       "2                  0.2430          0.3613                  0.08758  \n",
       "3                  0.2575          0.6638                  0.17300  \n",
       "4                  0.1625          0.2364                  0.07678  \n",
       "..                    ...             ...                      ...  \n",
       "564                0.2216          0.2060                  0.07115  \n",
       "565                0.1628          0.2572                  0.06637  \n",
       "566                0.1418          0.2218                  0.07820  \n",
       "567                0.2650          0.4087                  0.12400  \n",
       "568                0.0000          0.2871                  0.07039  \n",
       "\n",
       "[569 rows x 32 columns]"
      ]
     },
     "execution_count": 28,
     "metadata": {},
     "output_type": "execute_result"
    }
   ],
   "source": [
    "# Importing data\n",
    "data = pd.read_csv('data.csv')\n",
    "del data['Unnamed: 32']\n",
    "data"
   ]
  },
  {
   "cell_type": "markdown",
   "id": "16692767",
   "metadata": {},
   "source": [
    "# Preprocesamiento"
   ]
  },
  {
   "cell_type": "code",
   "execution_count": 29,
   "id": "f1379cf0",
   "metadata": {},
   "outputs": [],
   "source": [
    "x = data.iloc[:,2:].values # extrae como tensores numpy\n",
    "y = data.iloc[:,1].values"
   ]
  },
  {
   "cell_type": "markdown",
   "id": "30badd3b",
   "metadata": {},
   "source": [
    "# Recodifica la variable objetivo"
   ]
  },
  {
   "cell_type": "code",
   "execution_count": 30,
   "id": "8b4d8e49",
   "metadata": {},
   "outputs": [],
   "source": [
    "labelencoder_y = LabelEncoder()\n",
    "y = labelencoder_y.fit_transform(y)"
   ]
  },
  {
   "cell_type": "markdown",
   "id": "e9c8427e",
   "metadata": {},
   "source": [
    "# Dividir los datos entre entrenamiento y test"
   ]
  },
  {
   "cell_type": "code",
   "execution_count": 31,
   "id": "5b1a5cef",
   "metadata": {},
   "outputs": [],
   "source": [
    "x_train, x_test, y_train, y_test = train_test_split(x, y, test_size = 0.1, random_state = 0)\n"
   ]
  },
  {
   "cell_type": "code",
   "execution_count": 32,
   "id": "9689024c",
   "metadata": {},
   "outputs": [
    {
     "data": {
      "text/plain": [
       "(57, 30)"
      ]
     },
     "execution_count": 32,
     "metadata": {},
     "output_type": "execute_result"
    }
   ],
   "source": [
    "x_test.shape"
   ]
  },
  {
   "cell_type": "markdown",
   "id": "ea2a3834",
   "metadata": {},
   "source": [
    "# Normaliza los datos"
   ]
  },
  {
   "cell_type": "code",
   "execution_count": 33,
   "id": "3eb81f8f",
   "metadata": {},
   "outputs": [],
   "source": [
    "sc = StandardScaler()\n",
    "x_train = sc.fit_transform(x_train)\n",
    "x_test = sc.transform(x_test)"
   ]
  },
  {
   "cell_type": "markdown",
   "id": "4a6bb490",
   "metadata": {},
   "source": [
    "# Crear un modelo Sequential modo 2"
   ]
  },
  {
   "cell_type": "code",
   "execution_count": 34,
   "id": "5f993cbb",
   "metadata": {},
   "outputs": [],
   "source": [
    "classifier = Sequential()\n",
    "## Adiciona capas una por una\n",
    "classifier.add(Dense(units=16, activation='relu', input_shape=(30,)))\n",
    "# Adding dropout to prevent overfitting (regularización)\n",
    "classifier.add(Dropout(0.1)) # 10% out in each epoc\n",
    "classifier.add(Dense(units=16, activation='relu'))\n",
    "# Adding dropout to prevent overfitting (regularización)\n",
    "classifier.add(Dropout(0.1))\n",
    "classifier.add(Dense(units=1, activation='sigmoid'))"
   ]
  },
  {
   "cell_type": "markdown",
   "id": "2a30d026",
   "metadata": {},
   "source": [
    "# Compila"
   ]
  },
  {
   "cell_type": "code",
   "execution_count": 35,
   "id": "99ec1dfc",
   "metadata": {},
   "outputs": [],
   "source": [
    "classifier.compile(optimizer='adam', loss='binary_crossentropy', metrics=['accuracy'])"
   ]
  },
  {
   "cell_type": "code",
   "execution_count": 36,
   "id": "ad1669a2",
   "metadata": {},
   "outputs": [
    {
     "name": "stdout",
     "output_type": "stream",
     "text": [
      "Model: \"sequential_1\"\n",
      "_________________________________________________________________\n",
      "Layer (type)                 Output Shape              Param #   \n",
      "=================================================================\n",
      "dense_3 (Dense)              (None, 16)                496       \n",
      "_________________________________________________________________\n",
      "dropout_2 (Dropout)          (None, 16)                0         \n",
      "_________________________________________________________________\n",
      "dense_4 (Dense)              (None, 16)                272       \n",
      "_________________________________________________________________\n",
      "dropout_3 (Dropout)          (None, 16)                0         \n",
      "_________________________________________________________________\n",
      "dense_5 (Dense)              (None, 1)                 17        \n",
      "=================================================================\n",
      "Total params: 785\n",
      "Trainable params: 785\n",
      "Non-trainable params: 0\n",
      "_________________________________________________________________\n"
     ]
    },
    {
     "data": {
      "image/png": "[encoded data removed]",
      "text/plain": [
       "<IPython.core.display.Image object>"
      ]
     },
     "execution_count": 36,
     "metadata": {},
     "output_type": "execute_result"
    }
   ],
   "source": [
    "classifier.summary()\n",
    "plot_model(classifier, to_file='cancer_seno.png', \n",
    "           show_shapes=True)"
   ]
  },
  {
   "cell_type": "markdown",
   "id": "2e613083",
   "metadata": {},
   "source": [
    "# Entrenamiento"
   ]
  },
  {
   "cell_type": "code",
   "execution_count": 37,
   "id": "c08ef6ac",
   "metadata": {},
   "outputs": [
    {
     "name": "stdout",
     "output_type": "stream",
     "text": [
      "Epoch 1/150\n",
      "13/13 [==============================] - 0s 10ms/step - loss: 0.6278 - accuracy: 0.6919 - val_loss: 0.5395 - val_accuracy: 0.7864\n",
      "Epoch 2/150\n",
      "13/13 [==============================] - 0s 3ms/step - loss: 0.5117 - accuracy: 0.8020 - val_loss: 0.4453 - val_accuracy: 0.8641\n",
      "Epoch 3/150\n",
      "13/13 [==============================] - 0s 6ms/step - loss: 0.4259 - accuracy: 0.8680 - val_loss: 0.3717 - val_accuracy: 0.8835\n",
      "Epoch 4/150\n",
      "13/13 [==============================] - 0s 7ms/step - loss: 0.3698 - accuracy: 0.8949 - val_loss: 0.3124 - val_accuracy: 0.9029\n",
      "Epoch 5/150\n",
      "13/13 [==============================] - 0s 6ms/step - loss: 0.3126 - accuracy: 0.9095 - val_loss: 0.2633 - val_accuracy: 0.9223\n",
      "Epoch 6/150\n",
      "13/13 [==============================] - 0s 6ms/step - loss: 0.2613 - accuracy: 0.9120 - val_loss: 0.2244 - val_accuracy: 0.9320\n",
      "Epoch 7/150\n",
      "13/13 [==============================] - 0s 6ms/step - loss: 0.2290 - accuracy: 0.9315 - val_loss: 0.1941 - val_accuracy: 0.9417\n",
      "Epoch 8/150\n",
      "13/13 [==============================] - 0s 6ms/step - loss: 0.1988 - accuracy: 0.9315 - val_loss: 0.1708 - val_accuracy: 0.9515\n",
      "Epoch 9/150\n",
      "13/13 [==============================] - 0s 7ms/step - loss: 0.1841 - accuracy: 0.9511 - val_loss: 0.1493 - val_accuracy: 0.9515\n",
      "Epoch 10/150\n",
      "13/13 [==============================] - 0s 7ms/step - loss: 0.1709 - accuracy: 0.9438 - val_loss: 0.1333 - val_accuracy: 0.9515\n",
      "Epoch 11/150\n",
      "13/13 [==============================] - 0s 6ms/step - loss: 0.1455 - accuracy: 0.9462 - val_loss: 0.1207 - val_accuracy: 0.9515\n",
      "Epoch 12/150\n",
      "13/13 [==============================] - 0s 6ms/step - loss: 0.1357 - accuracy: 0.9633 - val_loss: 0.1107 - val_accuracy: 0.9709\n",
      "Epoch 13/150\n",
      "13/13 [==============================] - 0s 5ms/step - loss: 0.1343 - accuracy: 0.9609 - val_loss: 0.1013 - val_accuracy: 0.9806\n",
      "Epoch 14/150\n",
      "13/13 [==============================] - 0s 7ms/step - loss: 0.1214 - accuracy: 0.9560 - val_loss: 0.0940 - val_accuracy: 0.9806\n",
      "Epoch 15/150\n",
      "13/13 [==============================] - 0s 8ms/step - loss: 0.1089 - accuracy: 0.9658 - val_loss: 0.0878 - val_accuracy: 0.9806\n",
      "Epoch 16/150\n",
      "13/13 [==============================] - 0s 8ms/step - loss: 0.1098 - accuracy: 0.9560 - val_loss: 0.0835 - val_accuracy: 0.9806\n",
      "Epoch 17/150\n",
      "13/13 [==============================] - 0s 6ms/step - loss: 0.0939 - accuracy: 0.9633 - val_loss: 0.0787 - val_accuracy: 0.9709\n",
      "Epoch 18/150\n",
      "13/13 [==============================] - 0s 3ms/step - loss: 0.1122 - accuracy: 0.9560 - val_loss: 0.0744 - val_accuracy: 0.9709\n",
      "Epoch 19/150\n",
      "13/13 [==============================] - 0s 7ms/step - loss: 0.0924 - accuracy: 0.9756 - val_loss: 0.0718 - val_accuracy: 0.9709\n",
      "Epoch 20/150\n",
      "13/13 [==============================] - 0s 7ms/step - loss: 0.0873 - accuracy: 0.9633 - val_loss: 0.0686 - val_accuracy: 0.9709\n",
      "Epoch 21/150\n",
      "13/13 [==============================] - 0s 5ms/step - loss: 0.0973 - accuracy: 0.9682 - val_loss: 0.0666 - val_accuracy: 0.9709\n",
      "Epoch 22/150\n",
      "13/13 [==============================] - 0s 7ms/step - loss: 0.0794 - accuracy: 0.9780 - val_loss: 0.0648 - val_accuracy: 0.9709\n",
      "Epoch 23/150\n",
      "13/13 [==============================] - 0s 7ms/step - loss: 0.0816 - accuracy: 0.9682 - val_loss: 0.0629 - val_accuracy: 0.9709\n",
      "Epoch 24/150\n",
      "13/13 [==============================] - 0s 7ms/step - loss: 0.0812 - accuracy: 0.9731 - val_loss: 0.0609 - val_accuracy: 0.9709\n",
      "Epoch 25/150\n",
      "13/13 [==============================] - 0s 6ms/step - loss: 0.0800 - accuracy: 0.9731 - val_loss: 0.0597 - val_accuracy: 0.9709\n",
      "Epoch 26/150\n",
      "13/13 [==============================] - 0s 6ms/step - loss: 0.0758 - accuracy: 0.9804 - val_loss: 0.0572 - val_accuracy: 0.9709\n",
      "Epoch 27/150\n",
      "13/13 [==============================] - 0s 7ms/step - loss: 0.0654 - accuracy: 0.9829 - val_loss: 0.0564 - val_accuracy: 0.9709\n",
      "Epoch 28/150\n",
      "13/13 [==============================] - 0s 6ms/step - loss: 0.0674 - accuracy: 0.9804 - val_loss: 0.0556 - val_accuracy: 0.9709\n",
      "Epoch 29/150\n",
      "13/13 [==============================] - 0s 6ms/step - loss: 0.0699 - accuracy: 0.9731 - val_loss: 0.0551 - val_accuracy: 0.9709\n",
      "Epoch 30/150\n",
      "13/13 [==============================] - 0s 6ms/step - loss: 0.0769 - accuracy: 0.9804 - val_loss: 0.0549 - val_accuracy: 0.9709\n",
      "Epoch 31/150\n",
      "13/13 [==============================] - 0s 6ms/step - loss: 0.0668 - accuracy: 0.9731 - val_loss: 0.0534 - val_accuracy: 0.9709\n",
      "Epoch 32/150\n",
      "13/13 [==============================] - 0s 8ms/step - loss: 0.0694 - accuracy: 0.9756 - val_loss: 0.0516 - val_accuracy: 0.9709\n",
      "Epoch 33/150\n",
      "13/13 [==============================] - 0s 6ms/step - loss: 0.0565 - accuracy: 0.9829 - val_loss: 0.0514 - val_accuracy: 0.9709\n",
      "Epoch 34/150\n",
      "13/13 [==============================] - 0s 8ms/step - loss: 0.0653 - accuracy: 0.9829 - val_loss: 0.0501 - val_accuracy: 0.9709\n",
      "Epoch 35/150\n",
      "13/13 [==============================] - 0s 9ms/step - loss: 0.0672 - accuracy: 0.9780 - val_loss: 0.0499 - val_accuracy: 0.9709\n",
      "Epoch 36/150\n",
      "13/13 [==============================] - 0s 7ms/step - loss: 0.0622 - accuracy: 0.9829 - val_loss: 0.0493 - val_accuracy: 0.9709\n",
      "Epoch 37/150\n",
      "13/13 [==============================] - 0s 8ms/step - loss: 0.0580 - accuracy: 0.9780 - val_loss: 0.0492 - val_accuracy: 0.9709\n",
      "Epoch 38/150\n",
      "13/13 [==============================] - 0s 6ms/step - loss: 0.0550 - accuracy: 0.9853 - val_loss: 0.0477 - val_accuracy: 0.9709\n",
      "Epoch 39/150\n",
      "13/13 [==============================] - 0s 8ms/step - loss: 0.0656 - accuracy: 0.9731 - val_loss: 0.0466 - val_accuracy: 0.9709\n",
      "Epoch 40/150\n",
      "13/13 [==============================] - 0s 7ms/step - loss: 0.0632 - accuracy: 0.9829 - val_loss: 0.0454 - val_accuracy: 0.9709\n",
      "Epoch 41/150\n",
      "13/13 [==============================] - 0s 8ms/step - loss: 0.0607 - accuracy: 0.9804 - val_loss: 0.0446 - val_accuracy: 0.9709\n",
      "Epoch 42/150\n",
      "13/13 [==============================] - 0s 8ms/step - loss: 0.0560 - accuracy: 0.9780 - val_loss: 0.0460 - val_accuracy: 0.9709\n",
      "Epoch 43/150\n",
      "13/13 [==============================] - 0s 7ms/step - loss: 0.0470 - accuracy: 0.9804 - val_loss: 0.0460 - val_accuracy: 0.9709\n",
      "Epoch 44/150\n",
      "13/13 [==============================] - 0s 7ms/step - loss: 0.0499 - accuracy: 0.9829 - val_loss: 0.0460 - val_accuracy: 0.9709\n",
      "Epoch 45/150\n",
      "13/13 [==============================] - 0s 7ms/step - loss: 0.0530 - accuracy: 0.9829 - val_loss: 0.0432 - val_accuracy: 0.9709\n",
      "Epoch 46/150\n",
      "13/13 [==============================] - 0s 6ms/step - loss: 0.0477 - accuracy: 0.9878 - val_loss: 0.0428 - val_accuracy: 0.9709\n",
      "Epoch 47/150\n",
      "13/13 [==============================] - 0s 7ms/step - loss: 0.0489 - accuracy: 0.9853 - val_loss: 0.0421 - val_accuracy: 0.9709\n",
      "Epoch 48/150\n",
      "13/13 [==============================] - 0s 6ms/step - loss: 0.0483 - accuracy: 0.9878 - val_loss: 0.0417 - val_accuracy: 0.9806\n",
      "Epoch 49/150\n",
      "13/13 [==============================] - 0s 8ms/step - loss: 0.0626 - accuracy: 0.9780 - val_loss: 0.0412 - val_accuracy: 0.9903\n",
      "Epoch 50/150\n",
      "13/13 [==============================] - 0s 5ms/step - loss: 0.0493 - accuracy: 0.9853 - val_loss: 0.0394 - val_accuracy: 0.9903\n",
      "Epoch 51/150\n",
      "13/13 [==============================] - 0s 5ms/step - loss: 0.0565 - accuracy: 0.9804 - val_loss: 0.0389 - val_accuracy: 0.9903\n",
      "Epoch 52/150\n",
      "13/13 [==============================] - 0s 10ms/step - loss: 0.0537 - accuracy: 0.9853 - val_loss: 0.0402 - val_accuracy: 0.9806\n",
      "Epoch 53/150\n",
      "13/13 [==============================] - 0s 7ms/step - loss: 0.0480 - accuracy: 0.9878 - val_loss: 0.0401 - val_accuracy: 0.9806\n",
      "Epoch 54/150\n",
      "13/13 [==============================] - 0s 5ms/step - loss: 0.0406 - accuracy: 0.9902 - val_loss: 0.0392 - val_accuracy: 0.9806\n",
      "Epoch 55/150\n",
      "13/13 [==============================] - 0s 6ms/step - loss: 0.0414 - accuracy: 0.9902 - val_loss: 0.0381 - val_accuracy: 0.9806\n",
      "Epoch 56/150\n",
      "13/13 [==============================] - 0s 8ms/step - loss: 0.0439 - accuracy: 0.9927 - val_loss: 0.0370 - val_accuracy: 0.9806\n",
      "Epoch 57/150\n",
      "13/13 [==============================] - 0s 8ms/step - loss: 0.0431 - accuracy: 0.9829 - val_loss: 0.0358 - val_accuracy: 0.9806\n",
      "Epoch 58/150\n",
      "13/13 [==============================] - 0s 10ms/step - loss: 0.0497 - accuracy: 0.9804 - val_loss: 0.0371 - val_accuracy: 0.9806\n",
      "Epoch 59/150\n",
      "13/13 [==============================] - 0s 9ms/step - loss: 0.0446 - accuracy: 0.9804 - val_loss: 0.0371 - val_accuracy: 0.9903\n",
      "Epoch 60/150\n",
      "13/13 [==============================] - 0s 9ms/step - loss: 0.0424 - accuracy: 0.9878 - val_loss: 0.0366 - val_accuracy: 0.9903\n",
      "Epoch 61/150\n",
      "13/13 [==============================] - 0s 10ms/step - loss: 0.0403 - accuracy: 0.9902 - val_loss: 0.0362 - val_accuracy: 0.9903\n",
      "Epoch 62/150\n",
      "13/13 [==============================] - 0s 7ms/step - loss: 0.0401 - accuracy: 0.9853 - val_loss: 0.0355 - val_accuracy: 0.9903\n",
      "Epoch 63/150\n",
      "13/13 [==============================] - 0s 7ms/step - loss: 0.0351 - accuracy: 0.9902 - val_loss: 0.0345 - val_accuracy: 0.9806\n",
      "Epoch 64/150\n",
      "13/13 [==============================] - 0s 8ms/step - loss: 0.0412 - accuracy: 0.9902 - val_loss: 0.0337 - val_accuracy: 0.9903\n",
      "Epoch 65/150\n",
      "13/13 [==============================] - 0s 8ms/step - loss: 0.0363 - accuracy: 0.9902 - val_loss: 0.0352 - val_accuracy: 0.9903\n",
      "Epoch 66/150\n",
      "13/13 [==============================] - 0s 8ms/step - loss: 0.0506 - accuracy: 0.9878 - val_loss: 0.0357 - val_accuracy: 0.9806\n",
      "Epoch 67/150\n",
      "13/13 [==============================] - 0s 9ms/step - loss: 0.0413 - accuracy: 0.9927 - val_loss: 0.0355 - val_accuracy: 0.9806\n",
      "Epoch 68/150\n",
      "13/13 [==============================] - 0s 8ms/step - loss: 0.0323 - accuracy: 0.9878 - val_loss: 0.0335 - val_accuracy: 0.9806\n",
      "Epoch 69/150\n",
      "13/13 [==============================] - 0s 9ms/step - loss: 0.0325 - accuracy: 0.9927 - val_loss: 0.0344 - val_accuracy: 0.9903\n",
      "Epoch 70/150\n",
      "13/13 [==============================] - 0s 6ms/step - loss: 0.0359 - accuracy: 0.9878 - val_loss: 0.0331 - val_accuracy: 0.9903\n",
      "Epoch 71/150\n",
      "13/13 [==============================] - 0s 8ms/step - loss: 0.0333 - accuracy: 0.9878 - val_loss: 0.0332 - val_accuracy: 0.9903\n",
      "Epoch 72/150\n",
      "13/13 [==============================] - 0s 7ms/step - loss: 0.0338 - accuracy: 0.9951 - val_loss: 0.0329 - val_accuracy: 0.9903\n",
      "Epoch 73/150\n",
      "13/13 [==============================] - 0s 8ms/step - loss: 0.0371 - accuracy: 0.9878 - val_loss: 0.0317 - val_accuracy: 0.9903\n",
      "Epoch 74/150\n",
      "13/13 [==============================] - 0s 8ms/step - loss: 0.0353 - accuracy: 0.9927 - val_loss: 0.0314 - val_accuracy: 0.9903\n",
      "Epoch 75/150\n",
      "13/13 [==============================] - 0s 7ms/step - loss: 0.0337 - accuracy: 0.9878 - val_loss: 0.0315 - val_accuracy: 0.9903\n",
      "Epoch 76/150\n",
      "13/13 [==============================] - 0s 7ms/step - loss: 0.0393 - accuracy: 0.9878 - val_loss: 0.0300 - val_accuracy: 0.9903\n",
      "Epoch 77/150\n",
      "13/13 [==============================] - 0s 8ms/step - loss: 0.0437 - accuracy: 0.9853 - val_loss: 0.0304 - val_accuracy: 0.9903\n",
      "Epoch 78/150\n",
      "13/13 [==============================] - 0s 10ms/step - loss: 0.0315 - accuracy: 0.9927 - val_loss: 0.0301 - val_accuracy: 0.9903\n",
      "Epoch 79/150\n",
      "13/13 [==============================] - 0s 7ms/step - loss: 0.0343 - accuracy: 0.9853 - val_loss: 0.0294 - val_accuracy: 0.9903\n",
      "Epoch 80/150\n",
      "13/13 [==============================] - 0s 9ms/step - loss: 0.0281 - accuracy: 0.9927 - val_loss: 0.0295 - val_accuracy: 0.9903\n",
      "Epoch 81/150\n",
      "13/13 [==============================] - 0s 7ms/step - loss: 0.0377 - accuracy: 0.9902 - val_loss: 0.0298 - val_accuracy: 0.9903\n",
      "Epoch 82/150\n",
      "13/13 [==============================] - 0s 8ms/step - loss: 0.0297 - accuracy: 0.9927 - val_loss: 0.0296 - val_accuracy: 0.9903\n",
      "Epoch 83/150\n",
      "13/13 [==============================] - 0s 6ms/step - loss: 0.0286 - accuracy: 0.9927 - val_loss: 0.0305 - val_accuracy: 0.9903\n",
      "Epoch 84/150\n",
      "13/13 [==============================] - 0s 8ms/step - loss: 0.0282 - accuracy: 0.9902 - val_loss: 0.0311 - val_accuracy: 0.9903\n",
      "Epoch 85/150\n",
      "13/13 [==============================] - 0s 7ms/step - loss: 0.0251 - accuracy: 0.9951 - val_loss: 0.0307 - val_accuracy: 0.9903\n",
      "Epoch 86/150\n",
      "13/13 [==============================] - 0s 8ms/step - loss: 0.0311 - accuracy: 0.9927 - val_loss: 0.0312 - val_accuracy: 0.9903\n",
      "Epoch 87/150\n",
      "13/13 [==============================] - 0s 7ms/step - loss: 0.0284 - accuracy: 0.9927 - val_loss: 0.0313 - val_accuracy: 0.9903\n",
      "Epoch 88/150\n",
      "13/13 [==============================] - 0s 7ms/step - loss: 0.0266 - accuracy: 0.9902 - val_loss: 0.0297 - val_accuracy: 0.9903\n",
      "Epoch 89/150\n",
      "13/13 [==============================] - 0s 8ms/step - loss: 0.0343 - accuracy: 0.9878 - val_loss: 0.0271 - val_accuracy: 0.9903\n",
      "Epoch 90/150\n",
      "13/13 [==============================] - 0s 8ms/step - loss: 0.0336 - accuracy: 0.9878 - val_loss: 0.0280 - val_accuracy: 0.9903\n",
      "Epoch 91/150\n",
      "13/13 [==============================] - 0s 7ms/step - loss: 0.0273 - accuracy: 0.9927 - val_loss: 0.0299 - val_accuracy: 0.9903\n",
      "Epoch 92/150\n",
      "13/13 [==============================] - 0s 8ms/step - loss: 0.0336 - accuracy: 0.9902 - val_loss: 0.0319 - val_accuracy: 0.9903\n",
      "Epoch 93/150\n",
      "13/13 [==============================] - 0s 7ms/step - loss: 0.0261 - accuracy: 0.9902 - val_loss: 0.0339 - val_accuracy: 0.9903\n",
      "Epoch 94/150\n",
      "13/13 [==============================] - 0s 8ms/step - loss: 0.0228 - accuracy: 0.9951 - val_loss: 0.0332 - val_accuracy: 0.9903\n",
      "Epoch 95/150\n",
      "13/13 [==============================] - 0s 7ms/step - loss: 0.0267 - accuracy: 0.9927 - val_loss: 0.0314 - val_accuracy: 0.9806\n",
      "Epoch 96/150\n",
      "13/13 [==============================] - 0s 13ms/step - loss: 0.0292 - accuracy: 0.9902 - val_loss: 0.0305 - val_accuracy: 0.9903\n",
      "Epoch 97/150\n",
      "13/13 [==============================] - 0s 5ms/step - loss: 0.0228 - accuracy: 0.9951 - val_loss: 0.0316 - val_accuracy: 0.9903\n",
      "Epoch 98/150\n",
      "13/13 [==============================] - 0s 7ms/step - loss: 0.0299 - accuracy: 0.9878 - val_loss: 0.0320 - val_accuracy: 0.9903\n",
      "Epoch 99/150\n",
      "13/13 [==============================] - 0s 9ms/step - loss: 0.0204 - accuracy: 0.9951 - val_loss: 0.0312 - val_accuracy: 0.9903\n",
      "Epoch 100/150\n",
      "13/13 [==============================] - 0s 8ms/step - loss: 0.0258 - accuracy: 0.9902 - val_loss: 0.0310 - val_accuracy: 0.9903\n",
      "Epoch 101/150\n",
      "13/13 [==============================] - 0s 7ms/step - loss: 0.0244 - accuracy: 0.9927 - val_loss: 0.0296 - val_accuracy: 0.9903\n",
      "Epoch 102/150\n",
      "13/13 [==============================] - 0s 8ms/step - loss: 0.0183 - accuracy: 0.9951 - val_loss: 0.0287 - val_accuracy: 0.9903\n",
      "Epoch 103/150\n",
      "13/13 [==============================] - 0s 7ms/step - loss: 0.0213 - accuracy: 0.9927 - val_loss: 0.0284 - val_accuracy: 0.9903\n",
      "Epoch 104/150\n",
      "13/13 [==============================] - 0s 8ms/step - loss: 0.0207 - accuracy: 0.9927 - val_loss: 0.0286 - val_accuracy: 0.9903\n",
      "Epoch 105/150\n",
      "13/13 [==============================] - 0s 5ms/step - loss: 0.0268 - accuracy: 0.9951 - val_loss: 0.0301 - val_accuracy: 0.9903\n",
      "Epoch 106/150\n",
      "13/13 [==============================] - 0s 6ms/step - loss: 0.0282 - accuracy: 0.9853 - val_loss: 0.0302 - val_accuracy: 0.9903\n",
      "Epoch 107/150\n",
      "13/13 [==============================] - 0s 5ms/step - loss: 0.0298 - accuracy: 0.9927 - val_loss: 0.0267 - val_accuracy: 0.9903\n",
      "Epoch 108/150\n",
      "13/13 [==============================] - 0s 7ms/step - loss: 0.0239 - accuracy: 0.9927 - val_loss: 0.0249 - val_accuracy: 0.9903\n",
      "Epoch 109/150\n",
      "13/13 [==============================] - 0s 7ms/step - loss: 0.0209 - accuracy: 0.9902 - val_loss: 0.0256 - val_accuracy: 0.9903\n",
      "Epoch 110/150\n",
      "13/13 [==============================] - 0s 7ms/step - loss: 0.0226 - accuracy: 0.9976 - val_loss: 0.0272 - val_accuracy: 0.9903\n",
      "Epoch 111/150\n",
      "13/13 [==============================] - 0s 8ms/step - loss: 0.0202 - accuracy: 0.9976 - val_loss: 0.0276 - val_accuracy: 0.9903\n",
      "Epoch 112/150\n",
      "13/13 [==============================] - 0s 7ms/step - loss: 0.0151 - accuracy: 0.9951 - val_loss: 0.0269 - val_accuracy: 0.9903\n",
      "Epoch 113/150\n",
      "13/13 [==============================] - 0s 8ms/step - loss: 0.0207 - accuracy: 0.9927 - val_loss: 0.0263 - val_accuracy: 0.9903\n",
      "Epoch 114/150\n",
      "13/13 [==============================] - 0s 7ms/step - loss: 0.0237 - accuracy: 0.9902 - val_loss: 0.0258 - val_accuracy: 0.9903\n",
      "Epoch 115/150\n",
      "13/13 [==============================] - 0s 5ms/step - loss: 0.0229 - accuracy: 0.9927 - val_loss: 0.0257 - val_accuracy: 0.9903\n",
      "Epoch 116/150\n",
      "13/13 [==============================] - 0s 6ms/step - loss: 0.0237 - accuracy: 0.9902 - val_loss: 0.0238 - val_accuracy: 0.9903\n",
      "Epoch 117/150\n",
      "13/13 [==============================] - 0s 5ms/step - loss: 0.0163 - accuracy: 0.9951 - val_loss: 0.0240 - val_accuracy: 0.9903\n",
      "Epoch 118/150\n",
      "13/13 [==============================] - 0s 7ms/step - loss: 0.0333 - accuracy: 0.9853 - val_loss: 0.0249 - val_accuracy: 0.9903\n",
      "Epoch 119/150\n",
      "13/13 [==============================] - 0s 6ms/step - loss: 0.0202 - accuracy: 0.9878 - val_loss: 0.0241 - val_accuracy: 0.9903\n",
      "Epoch 120/150\n",
      "13/13 [==============================] - 0s 5ms/step - loss: 0.0176 - accuracy: 0.9951 - val_loss: 0.0249 - val_accuracy: 0.9903\n",
      "Epoch 121/150\n",
      "13/13 [==============================] - 0s 5ms/step - loss: 0.0226 - accuracy: 0.9951 - val_loss: 0.0249 - val_accuracy: 0.9903\n",
      "Epoch 122/150\n",
      "13/13 [==============================] - 0s 5ms/step - loss: 0.0225 - accuracy: 0.9927 - val_loss: 0.0255 - val_accuracy: 0.9903\n",
      "Epoch 123/150\n",
      "13/13 [==============================] - 0s 5ms/step - loss: 0.0194 - accuracy: 0.9951 - val_loss: 0.0266 - val_accuracy: 0.9903\n",
      "Epoch 124/150\n",
      "13/13 [==============================] - 0s 5ms/step - loss: 0.0119 - accuracy: 1.0000 - val_loss: 0.0265 - val_accuracy: 0.9903\n",
      "Epoch 125/150\n",
      "13/13 [==============================] - 0s 6ms/step - loss: 0.0141 - accuracy: 0.9976 - val_loss: 0.0259 - val_accuracy: 0.9903\n",
      "Epoch 126/150\n",
      "13/13 [==============================] - 0s 7ms/step - loss: 0.0202 - accuracy: 0.9927 - val_loss: 0.0251 - val_accuracy: 0.9903\n",
      "Epoch 127/150\n",
      "13/13 [==============================] - 0s 8ms/step - loss: 0.0147 - accuracy: 1.0000 - val_loss: 0.0232 - val_accuracy: 0.9903\n",
      "Epoch 128/150\n",
      "13/13 [==============================] - 0s 8ms/step - loss: 0.0126 - accuracy: 0.9951 - val_loss: 0.0223 - val_accuracy: 0.9903\n",
      "Epoch 129/150\n",
      "13/13 [==============================] - 0s 6ms/step - loss: 0.0096 - accuracy: 1.0000 - val_loss: 0.0223 - val_accuracy: 0.9903\n",
      "Epoch 130/150\n",
      "13/13 [==============================] - 0s 6ms/step - loss: 0.0185 - accuracy: 0.9951 - val_loss: 0.0241 - val_accuracy: 0.9903\n",
      "Epoch 131/150\n",
      "13/13 [==============================] - 0s 6ms/step - loss: 0.0144 - accuracy: 0.9951 - val_loss: 0.0240 - val_accuracy: 0.9903\n",
      "Epoch 132/150\n",
      "13/13 [==============================] - 0s 5ms/step - loss: 0.0242 - accuracy: 0.9927 - val_loss: 0.0243 - val_accuracy: 0.9903\n",
      "Epoch 133/150\n",
      "13/13 [==============================] - 0s 9ms/step - loss: 0.0158 - accuracy: 0.9927 - val_loss: 0.0247 - val_accuracy: 0.9903\n",
      "Epoch 134/150\n",
      "13/13 [==============================] - 0s 7ms/step - loss: 0.0163 - accuracy: 0.9902 - val_loss: 0.0250 - val_accuracy: 0.9903\n",
      "Epoch 135/150\n",
      "13/13 [==============================] - 0s 9ms/step - loss: 0.0215 - accuracy: 0.9927 - val_loss: 0.0219 - val_accuracy: 0.9903\n",
      "Epoch 136/150\n",
      "13/13 [==============================] - 0s 7ms/step - loss: 0.0145 - accuracy: 0.9927 - val_loss: 0.0207 - val_accuracy: 0.9903\n",
      "Epoch 137/150\n",
      "13/13 [==============================] - 0s 8ms/step - loss: 0.0139 - accuracy: 0.9976 - val_loss: 0.0194 - val_accuracy: 0.9903\n",
      "Epoch 138/150\n",
      "13/13 [==============================] - 0s 7ms/step - loss: 0.0112 - accuracy: 0.9976 - val_loss: 0.0184 - val_accuracy: 0.9903\n",
      "Epoch 139/150\n",
      "13/13 [==============================] - 0s 8ms/step - loss: 0.0157 - accuracy: 0.9951 - val_loss: 0.0185 - val_accuracy: 0.9903\n",
      "Epoch 140/150\n",
      "13/13 [==============================] - 0s 6ms/step - loss: 0.0123 - accuracy: 0.9976 - val_loss: 0.0189 - val_accuracy: 0.9903\n",
      "Epoch 141/150\n",
      "13/13 [==============================] - 0s 7ms/step - loss: 0.0199 - accuracy: 0.9927 - val_loss: 0.0228 - val_accuracy: 0.9903\n",
      "Epoch 142/150\n",
      "13/13 [==============================] - 0s 7ms/step - loss: 0.0135 - accuracy: 0.9951 - val_loss: 0.0233 - val_accuracy: 0.9903\n",
      "Epoch 143/150\n",
      "13/13 [==============================] - 0s 8ms/step - loss: 0.0164 - accuracy: 0.9927 - val_loss: 0.0229 - val_accuracy: 0.9903\n",
      "Epoch 144/150\n",
      "13/13 [==============================] - 0s 8ms/step - loss: 0.0113 - accuracy: 0.9976 - val_loss: 0.0224 - val_accuracy: 0.9903\n",
      "Epoch 145/150\n",
      "13/13 [==============================] - 0s 7ms/step - loss: 0.0156 - accuracy: 0.9927 - val_loss: 0.0221 - val_accuracy: 0.9903\n",
      "Epoch 146/150\n",
      "13/13 [==============================] - 0s 9ms/step - loss: 0.0206 - accuracy: 0.9902 - val_loss: 0.0240 - val_accuracy: 0.9903\n",
      "Epoch 147/150\n",
      "13/13 [==============================] - 0s 6ms/step - loss: 0.0137 - accuracy: 0.9976 - val_loss: 0.0224 - val_accuracy: 0.9903\n",
      "Epoch 148/150\n",
      "13/13 [==============================] - 0s 8ms/step - loss: 0.0200 - accuracy: 0.9902 - val_loss: 0.0199 - val_accuracy: 0.9903\n",
      "Epoch 149/150\n",
      "13/13 [==============================] - 0s 7ms/step - loss: 0.0089 - accuracy: 1.0000 - val_loss: 0.0181 - val_accuracy: 0.9903\n",
      "Epoch 150/150\n",
      "13/13 [==============================] - 0s 9ms/step - loss: 0.0135 - accuracy: 0.9976 - val_loss: 0.0196 - val_accuracy: 0.9903\n"
     ]
    }
   ],
   "source": [
    "history = classifier.fit(x_train, y_train, batch_size=32, epochs=150,validation_split = 0.2)"
   ]
  },
  {
   "cell_type": "markdown",
   "id": "b18d2a5a",
   "metadata": {},
   "source": [
    "# Predicciones"
   ]
  },
  {
   "cell_type": "code",
   "execution_count": 38,
   "id": "c5c61ed2",
   "metadata": {},
   "outputs": [],
   "source": [
    "# Predicting the Test set results\n",
    "y_pred = classifier.predict(x_test)\n",
    "#y_pred = (y_pred > 0.5)\n",
    "y_pred[y_pred > 0.5] = 1\n",
    "y_pred[y_pred <=0.5] = 0"
   ]
  },
  {
   "cell_type": "markdown",
   "id": "01ec968c",
   "metadata": {},
   "source": [
    "# Matriz de confusión"
   ]
  },
  {
   "cell_type": "code",
   "execution_count": 39,
   "id": "d9972ebf",
   "metadata": {},
   "outputs": [],
   "source": [
    "cm = confusion_matrix(y_test, y_pred)"
   ]
  },
  {
   "cell_type": "code",
   "execution_count": 40,
   "id": "bfac2668",
   "metadata": {},
   "outputs": [
    {
     "name": "stdout",
     "output_type": "stream",
     "text": [
      "Our accuracy is 98.24561403508771%\n"
     ]
    }
   ],
   "source": [
    "print(\"Our accuracy is {}%\".format(((cm[0][0] + cm[1][1])/y_test.shape[0])*100))"
   ]
  },
  {
   "cell_type": "code",
   "execution_count": 41,
   "id": "77400b7e",
   "metadata": {},
   "outputs": [
    {
     "data": {
      "image/png": "[encoded data removed]",
      "text/plain": [
       "<Figure size 432x288 with 2 Axes>"
      ]
     },
     "metadata": {
      "needs_background": "light"
     },
     "output_type": "display_data"
    }
   ],
   "source": [
    "sns.heatmap(cm,annot=True)\n",
    "plt.savefig('h.png')"
   ]
  },
  {
   "cell_type": "markdown",
   "id": "83d14002",
   "metadata": {},
   "source": [
    "# Evaluación del modelo"
   ]
  },
  {
   "cell_type": "code",
   "execution_count": 42,
   "id": "a02be5d0",
   "metadata": {},
   "outputs": [],
   "source": [
    "def plot_metric(history, metric):\n",
    "    train_metrics = history.history[metric]\n",
    "    val_metrics = history.history['val_'+metric]\n",
    "    epochs = range(1, len(train_metrics) + 1)\n",
    "    plt.plot(epochs, train_metrics, 'bo--')\n",
    "    plt.plot(epochs, val_metrics, 'ro-')\n",
    "    plt.title('Entrenamiento y validación '+ metric)\n",
    "    plt.xlabel(\"Epochs\")\n",
    "    plt.ylabel(metric)\n",
    "    plt.legend([\"train_\"+metric, 'val_'+metric])\n",
    "    plt.show()"
   ]
  },
  {
   "cell_type": "code",
   "execution_count": 43,
   "id": "7f6c8c78",
   "metadata": {},
   "outputs": [
    {
     "data": {
      "image/png": "[encoded data removed]",
      "text/plain": [
       "<Figure size 432x288 with 1 Axes>"
      ]
     },
     "metadata": {
      "needs_background": "light"
     },
     "output_type": "display_data"
    }
   ],
   "source": [
    "plot_metric(history, 'loss')"
   ]
  },
  {
   "cell_type": "code",
   "execution_count": 44,
   "id": "2a56ceec",
   "metadata": {},
   "outputs": [
    {
     "data": {
      "image/png": "[encoded data removed]",
      "text/plain": [
       "<Figure size 432x288 with 1 Axes>"
      ]
     },
     "metadata": {
      "needs_background": "light"
     },
     "output_type": "display_data"
    }
   ],
   "source": [
    "plot_metric(history, 'accuracy')"
   ]
  },
  {
   "cell_type": "markdown",
   "id": "3e85e88b",
   "metadata": {},
   "source": [
    "# 2. Predecir el precio de las viviendas"
   ]
  },
  {
   "cell_type": "markdown",
   "id": "88819cab",
   "metadata": {},
   "source": [
    "# Librerias"
   ]
  },
  {
   "cell_type": "code",
   "execution_count": 129,
   "id": "69eb313e",
   "metadata": {},
   "outputs": [
    {
     "name": "stdout",
     "output_type": "stream",
     "text": [
      "2.3.0\n"
     ]
    }
   ],
   "source": [
    "from __future__ import absolute_import, division, print_function\n",
    "\n",
    "import tensorflow as tf\n",
    "\n",
    "from tensorflow import keras\n",
    "from tensorflow.keras import layers\n",
    "from tensorflow.keras.utils import plot_model\n",
    "\n",
    "\n",
    "import pathlib\n",
    "\n",
    "import matplotlib.pyplot as plt\n",
    "import pandas as pd\n",
    "import seaborn as sns\n",
    "\n",
    "\n",
    "\n",
    "\n",
    "print(tf.__version__)"
   ]
  },
  {
   "cell_type": "markdown",
   "id": "640aeca4",
   "metadata": {},
   "source": [
    "# Lectura de datos"
   ]
  },
  {
   "cell_type": "code",
   "execution_count": 130,
   "id": "a300d64f",
   "metadata": {},
   "outputs": [
    {
     "data": {
      "text/html": [
       "<div>\n",
       "<style scoped>\n",
       "    .dataframe tbody tr th:only-of-type {\n",
       "        vertical-align: middle;\n",
       "    }\n",
       "\n",
       "    .dataframe tbody tr th {\n",
       "        vertical-align: top;\n",
       "    }\n",
       "\n",
       "    .dataframe thead th {\n",
       "        text-align: right;\n",
       "    }\n",
       "</style>\n",
       "<table border=\"1\" class=\"dataframe\">\n",
       "  <thead>\n",
       "    <tr style=\"text-align: right;\">\n",
       "      <th></th>\n",
       "      <th>CRIM</th>\n",
       "      <th>ZN</th>\n",
       "      <th>INDUS</th>\n",
       "      <th>CHAS</th>\n",
       "      <th>NOX</th>\n",
       "      <th>RM</th>\n",
       "      <th>AGE</th>\n",
       "      <th>DIS</th>\n",
       "      <th>RAD</th>\n",
       "      <th>TAX</th>\n",
       "      <th>PTRATIO</th>\n",
       "      <th>B</th>\n",
       "      <th>LSTAT</th>\n",
       "      <th>MEDV</th>\n",
       "    </tr>\n",
       "  </thead>\n",
       "  <tbody>\n",
       "    <tr>\n",
       "      <th>0</th>\n",
       "      <td>0.00632</td>\n",
       "      <td>18.0</td>\n",
       "      <td>2.31</td>\n",
       "      <td>0.0</td>\n",
       "      <td>0.538</td>\n",
       "      <td>6.575</td>\n",
       "      <td>65.2</td>\n",
       "      <td>4.0900</td>\n",
       "      <td>1</td>\n",
       "      <td>296</td>\n",
       "      <td>15.3</td>\n",
       "      <td>396.90</td>\n",
       "      <td>4.98</td>\n",
       "      <td>24.0</td>\n",
       "    </tr>\n",
       "    <tr>\n",
       "      <th>1</th>\n",
       "      <td>0.02731</td>\n",
       "      <td>0.0</td>\n",
       "      <td>7.07</td>\n",
       "      <td>0.0</td>\n",
       "      <td>0.469</td>\n",
       "      <td>6.421</td>\n",
       "      <td>78.9</td>\n",
       "      <td>4.9671</td>\n",
       "      <td>2</td>\n",
       "      <td>242</td>\n",
       "      <td>17.8</td>\n",
       "      <td>396.90</td>\n",
       "      <td>9.14</td>\n",
       "      <td>21.6</td>\n",
       "    </tr>\n",
       "    <tr>\n",
       "      <th>2</th>\n",
       "      <td>0.02729</td>\n",
       "      <td>0.0</td>\n",
       "      <td>7.07</td>\n",
       "      <td>0.0</td>\n",
       "      <td>0.469</td>\n",
       "      <td>7.185</td>\n",
       "      <td>61.1</td>\n",
       "      <td>4.9671</td>\n",
       "      <td>2</td>\n",
       "      <td>242</td>\n",
       "      <td>17.8</td>\n",
       "      <td>392.83</td>\n",
       "      <td>4.03</td>\n",
       "      <td>34.7</td>\n",
       "    </tr>\n",
       "    <tr>\n",
       "      <th>3</th>\n",
       "      <td>0.03237</td>\n",
       "      <td>0.0</td>\n",
       "      <td>2.18</td>\n",
       "      <td>0.0</td>\n",
       "      <td>0.458</td>\n",
       "      <td>6.998</td>\n",
       "      <td>45.8</td>\n",
       "      <td>6.0622</td>\n",
       "      <td>3</td>\n",
       "      <td>222</td>\n",
       "      <td>18.7</td>\n",
       "      <td>394.63</td>\n",
       "      <td>2.94</td>\n",
       "      <td>33.4</td>\n",
       "    </tr>\n",
       "    <tr>\n",
       "      <th>4</th>\n",
       "      <td>0.06905</td>\n",
       "      <td>0.0</td>\n",
       "      <td>2.18</td>\n",
       "      <td>0.0</td>\n",
       "      <td>0.458</td>\n",
       "      <td>7.147</td>\n",
       "      <td>54.2</td>\n",
       "      <td>6.0622</td>\n",
       "      <td>3</td>\n",
       "      <td>222</td>\n",
       "      <td>18.7</td>\n",
       "      <td>396.90</td>\n",
       "      <td>NaN</td>\n",
       "      <td>36.2</td>\n",
       "    </tr>\n",
       "    <tr>\n",
       "      <th>...</th>\n",
       "      <td>...</td>\n",
       "      <td>...</td>\n",
       "      <td>...</td>\n",
       "      <td>...</td>\n",
       "      <td>...</td>\n",
       "      <td>...</td>\n",
       "      <td>...</td>\n",
       "      <td>...</td>\n",
       "      <td>...</td>\n",
       "      <td>...</td>\n",
       "      <td>...</td>\n",
       "      <td>...</td>\n",
       "      <td>...</td>\n",
       "      <td>...</td>\n",
       "    </tr>\n",
       "    <tr>\n",
       "      <th>501</th>\n",
       "      <td>0.06263</td>\n",
       "      <td>0.0</td>\n",
       "      <td>11.93</td>\n",
       "      <td>0.0</td>\n",
       "      <td>0.573</td>\n",
       "      <td>6.593</td>\n",
       "      <td>69.1</td>\n",
       "      <td>2.4786</td>\n",
       "      <td>1</td>\n",
       "      <td>273</td>\n",
       "      <td>21.0</td>\n",
       "      <td>391.99</td>\n",
       "      <td>NaN</td>\n",
       "      <td>22.4</td>\n",
       "    </tr>\n",
       "    <tr>\n",
       "      <th>502</th>\n",
       "      <td>0.04527</td>\n",
       "      <td>0.0</td>\n",
       "      <td>11.93</td>\n",
       "      <td>0.0</td>\n",
       "      <td>0.573</td>\n",
       "      <td>6.120</td>\n",
       "      <td>76.7</td>\n",
       "      <td>2.2875</td>\n",
       "      <td>1</td>\n",
       "      <td>273</td>\n",
       "      <td>21.0</td>\n",
       "      <td>396.90</td>\n",
       "      <td>9.08</td>\n",
       "      <td>20.6</td>\n",
       "    </tr>\n",
       "    <tr>\n",
       "      <th>503</th>\n",
       "      <td>0.06076</td>\n",
       "      <td>0.0</td>\n",
       "      <td>11.93</td>\n",
       "      <td>0.0</td>\n",
       "      <td>0.573</td>\n",
       "      <td>6.976</td>\n",
       "      <td>91.0</td>\n",
       "      <td>2.1675</td>\n",
       "      <td>1</td>\n",
       "      <td>273</td>\n",
       "      <td>21.0</td>\n",
       "      <td>396.90</td>\n",
       "      <td>5.64</td>\n",
       "      <td>23.9</td>\n",
       "    </tr>\n",
       "    <tr>\n",
       "      <th>504</th>\n",
       "      <td>0.10959</td>\n",
       "      <td>0.0</td>\n",
       "      <td>11.93</td>\n",
       "      <td>0.0</td>\n",
       "      <td>0.573</td>\n",
       "      <td>6.794</td>\n",
       "      <td>89.3</td>\n",
       "      <td>2.3889</td>\n",
       "      <td>1</td>\n",
       "      <td>273</td>\n",
       "      <td>21.0</td>\n",
       "      <td>393.45</td>\n",
       "      <td>6.48</td>\n",
       "      <td>22.0</td>\n",
       "    </tr>\n",
       "    <tr>\n",
       "      <th>505</th>\n",
       "      <td>0.04741</td>\n",
       "      <td>0.0</td>\n",
       "      <td>11.93</td>\n",
       "      <td>0.0</td>\n",
       "      <td>0.573</td>\n",
       "      <td>6.030</td>\n",
       "      <td>NaN</td>\n",
       "      <td>2.5050</td>\n",
       "      <td>1</td>\n",
       "      <td>273</td>\n",
       "      <td>21.0</td>\n",
       "      <td>396.90</td>\n",
       "      <td>7.88</td>\n",
       "      <td>11.9</td>\n",
       "    </tr>\n",
       "  </tbody>\n",
       "</table>\n",
       "<p>506 rows × 14 columns</p>\n",
       "</div>"
      ],
      "text/plain": [
       "        CRIM    ZN  INDUS  CHAS    NOX     RM   AGE     DIS  RAD  TAX  \\\n",
       "0    0.00632  18.0   2.31   0.0  0.538  6.575  65.2  4.0900    1  296   \n",
       "1    0.02731   0.0   7.07   0.0  0.469  6.421  78.9  4.9671    2  242   \n",
       "2    0.02729   0.0   7.07   0.0  0.469  7.185  61.1  4.9671    2  242   \n",
       "3    0.03237   0.0   2.18   0.0  0.458  6.998  45.8  6.0622    3  222   \n",
       "4    0.06905   0.0   2.18   0.0  0.458  7.147  54.2  6.0622    3  222   \n",
       "..       ...   ...    ...   ...    ...    ...   ...     ...  ...  ...   \n",
       "501  0.06263   0.0  11.93   0.0  0.573  6.593  69.1  2.4786    1  273   \n",
       "502  0.04527   0.0  11.93   0.0  0.573  6.120  76.7  2.2875    1  273   \n",
       "503  0.06076   0.0  11.93   0.0  0.573  6.976  91.0  2.1675    1  273   \n",
       "504  0.10959   0.0  11.93   0.0  0.573  6.794  89.3  2.3889    1  273   \n",
       "505  0.04741   0.0  11.93   0.0  0.573  6.030   NaN  2.5050    1  273   \n",
       "\n",
       "     PTRATIO       B  LSTAT  MEDV  \n",
       "0       15.3  396.90   4.98  24.0  \n",
       "1       17.8  396.90   9.14  21.6  \n",
       "2       17.8  392.83   4.03  34.7  \n",
       "3       18.7  394.63   2.94  33.4  \n",
       "4       18.7  396.90    NaN  36.2  \n",
       "..       ...     ...    ...   ...  \n",
       "501     21.0  391.99    NaN  22.4  \n",
       "502     21.0  396.90   9.08  20.6  \n",
       "503     21.0  396.90   5.64  23.9  \n",
       "504     21.0  393.45   6.48  22.0  \n",
       "505     21.0  396.90   7.88  11.9  \n",
       "\n",
       "[506 rows x 14 columns]"
      ]
     },
     "execution_count": 130,
     "metadata": {},
     "output_type": "execute_result"
    }
   ],
   "source": [
    "# Importing data\n",
    "data2 = pd.read_csv('HousingData.csv')\n",
    "data2"
   ]
  },
  {
   "cell_type": "code",
   "execution_count": 131,
   "id": "4fef2d32",
   "metadata": {},
   "outputs": [
    {
     "data": {
      "text/plain": [
       "CRIM       20\n",
       "ZN         20\n",
       "INDUS      20\n",
       "CHAS       20\n",
       "NOX         0\n",
       "RM          0\n",
       "AGE        20\n",
       "DIS         0\n",
       "RAD         0\n",
       "TAX         0\n",
       "PTRATIO     0\n",
       "B           0\n",
       "LSTAT      20\n",
       "MEDV        0\n",
       "dtype: int64"
      ]
     },
     "execution_count": 131,
     "metadata": {},
     "output_type": "execute_result"
    }
   ],
   "source": [
    "data2.isna().sum()"
   ]
  },
  {
   "cell_type": "code",
   "execution_count": 132,
   "id": "3cd13154",
   "metadata": {},
   "outputs": [],
   "source": [
    "data2 = data2.dropna()"
   ]
  },
  {
   "cell_type": "markdown",
   "id": "2c609a31",
   "metadata": {},
   "source": [
    "# Dividir los datos en entrenamiento y test\n",
    "\n",
    "Ahora divida el set de datos en un set de entrenamiento y otro de pruebas.\n",
    "\n",
    "Usaremos el set de pruebas en la evaluacion final de nuestro modelo.\n"
   ]
  },
  {
   "cell_type": "code",
   "execution_count": 133,
   "id": "0764dbb9",
   "metadata": {},
   "outputs": [],
   "source": [
    "train_dataset = data2.sample(frac=0.8,random_state=0) #genera una muestra con 80% de los datos\n",
    "test_dataset = data2.drop(train_dataset.index)  #validacion"
   ]
  },
  {
   "cell_type": "code",
   "execution_count": 134,
   "id": "7bef685e",
   "metadata": {},
   "outputs": [
    {
     "data": {
      "text/plain": [
       "Index(['CRIM', 'ZN', 'INDUS', 'CHAS', 'NOX', 'RM', 'AGE', 'DIS', 'RAD', 'TAX',\n",
       "       'PTRATIO', 'B', 'LSTAT', 'MEDV'],\n",
       "      dtype='object')"
      ]
     },
     "execution_count": 134,
     "metadata": {},
     "output_type": "execute_result"
    }
   ],
   "source": [
    "train_dataset.keys()"
   ]
  },
  {
   "cell_type": "markdown",
   "id": "0c461b98",
   "metadata": {},
   "source": [
    "# Descriptivo de los datos\n",
    "\n",
    "Revise rapidamente la distribucion conjunta de un par de columnas de el set de entrenamiento.\n"
   ]
  },
  {
   "cell_type": "code",
   "execution_count": 135,
   "id": "3ce6798c",
   "metadata": {},
   "outputs": [
    {
     "data": {
      "text/plain": [
       "<seaborn.axisgrid.PairGrid at 0x7f39ce63f610>"
      ]
     },
     "execution_count": 135,
     "metadata": {},
     "output_type": "execute_result"
    },
    {
     "data": {
      "image/png": "[encoded data removed]",
      "text/plain": [
       "<Figure size 720x720 with 20 Axes>"
      ]
     },
     "metadata": {
      "needs_background": "light"
     },
     "output_type": "display_data"
    }
   ],
   "source": [
    "sns.pairplot(train_dataset[[\"MEDV\", \"AGE\", \"TAX\", \"CRIM\"]], diag_kind=\"kde\")"
   ]
  },
  {
   "cell_type": "markdown",
   "id": "ef10a17e",
   "metadata": {},
   "source": [
    "Tambien revise las estadisticas generales:\n"
   ]
  },
  {
   "cell_type": "code",
   "execution_count": 136,
   "id": "7dfaac32",
   "metadata": {},
   "outputs": [
    {
     "data": {
      "text/html": [
       "<div>\n",
       "<style scoped>\n",
       "    .dataframe tbody tr th:only-of-type {\n",
       "        vertical-align: middle;\n",
       "    }\n",
       "\n",
       "    .dataframe tbody tr th {\n",
       "        vertical-align: top;\n",
       "    }\n",
       "\n",
       "    .dataframe thead th {\n",
       "        text-align: right;\n",
       "    }\n",
       "</style>\n",
       "<table border=\"1\" class=\"dataframe\">\n",
       "  <thead>\n",
       "    <tr style=\"text-align: right;\">\n",
       "      <th></th>\n",
       "      <th>count</th>\n",
       "      <th>mean</th>\n",
       "      <th>std</th>\n",
       "      <th>min</th>\n",
       "      <th>25%</th>\n",
       "      <th>50%</th>\n",
       "      <th>75%</th>\n",
       "      <th>max</th>\n",
       "    </tr>\n",
       "  </thead>\n",
       "  <tbody>\n",
       "    <tr>\n",
       "      <th>CRIM</th>\n",
       "      <td>315.0</td>\n",
       "      <td>3.729713</td>\n",
       "      <td>9.851193</td>\n",
       "      <td>0.00632</td>\n",
       "      <td>0.073735</td>\n",
       "      <td>0.24522</td>\n",
       "      <td>2.756855</td>\n",
       "      <td>88.9762</td>\n",
       "    </tr>\n",
       "    <tr>\n",
       "      <th>ZN</th>\n",
       "      <td>315.0</td>\n",
       "      <td>12.179365</td>\n",
       "      <td>24.618918</td>\n",
       "      <td>0.00000</td>\n",
       "      <td>0.000000</td>\n",
       "      <td>0.00000</td>\n",
       "      <td>15.000000</td>\n",
       "      <td>95.0000</td>\n",
       "    </tr>\n",
       "    <tr>\n",
       "      <th>INDUS</th>\n",
       "      <td>315.0</td>\n",
       "      <td>10.843968</td>\n",
       "      <td>6.880035</td>\n",
       "      <td>0.46000</td>\n",
       "      <td>4.940000</td>\n",
       "      <td>8.56000</td>\n",
       "      <td>18.100000</td>\n",
       "      <td>27.7400</td>\n",
       "    </tr>\n",
       "    <tr>\n",
       "      <th>CHAS</th>\n",
       "      <td>315.0</td>\n",
       "      <td>0.060317</td>\n",
       "      <td>0.238453</td>\n",
       "      <td>0.00000</td>\n",
       "      <td>0.000000</td>\n",
       "      <td>0.00000</td>\n",
       "      <td>0.000000</td>\n",
       "      <td>1.0000</td>\n",
       "    </tr>\n",
       "    <tr>\n",
       "      <th>NOX</th>\n",
       "      <td>315.0</td>\n",
       "      <td>0.550091</td>\n",
       "      <td>0.112438</td>\n",
       "      <td>0.38900</td>\n",
       "      <td>0.449000</td>\n",
       "      <td>0.53800</td>\n",
       "      <td>0.619000</td>\n",
       "      <td>0.8710</td>\n",
       "    </tr>\n",
       "    <tr>\n",
       "      <th>RM</th>\n",
       "      <td>315.0</td>\n",
       "      <td>6.271790</td>\n",
       "      <td>0.671474</td>\n",
       "      <td>3.56100</td>\n",
       "      <td>5.884500</td>\n",
       "      <td>6.19500</td>\n",
       "      <td>6.577000</td>\n",
       "      <td>8.7250</td>\n",
       "    </tr>\n",
       "    <tr>\n",
       "      <th>AGE</th>\n",
       "      <td>315.0</td>\n",
       "      <td>68.060000</td>\n",
       "      <td>27.905166</td>\n",
       "      <td>2.90000</td>\n",
       "      <td>44.350000</td>\n",
       "      <td>75.00000</td>\n",
       "      <td>93.950000</td>\n",
       "      <td>100.0000</td>\n",
       "    </tr>\n",
       "    <tr>\n",
       "      <th>DIS</th>\n",
       "      <td>315.0</td>\n",
       "      <td>3.855930</td>\n",
       "      <td>2.086667</td>\n",
       "      <td>1.16910</td>\n",
       "      <td>2.120350</td>\n",
       "      <td>3.31750</td>\n",
       "      <td>5.250950</td>\n",
       "      <td>12.1265</td>\n",
       "    </tr>\n",
       "    <tr>\n",
       "      <th>RAD</th>\n",
       "      <td>315.0</td>\n",
       "      <td>9.177778</td>\n",
       "      <td>8.555187</td>\n",
       "      <td>1.00000</td>\n",
       "      <td>4.000000</td>\n",
       "      <td>5.00000</td>\n",
       "      <td>8.000000</td>\n",
       "      <td>24.0000</td>\n",
       "    </tr>\n",
       "    <tr>\n",
       "      <th>TAX</th>\n",
       "      <td>315.0</td>\n",
       "      <td>401.307937</td>\n",
       "      <td>166.486559</td>\n",
       "      <td>187.00000</td>\n",
       "      <td>279.000000</td>\n",
       "      <td>329.00000</td>\n",
       "      <td>666.000000</td>\n",
       "      <td>711.0000</td>\n",
       "    </tr>\n",
       "    <tr>\n",
       "      <th>PTRATIO</th>\n",
       "      <td>315.0</td>\n",
       "      <td>18.492381</td>\n",
       "      <td>2.173539</td>\n",
       "      <td>12.60000</td>\n",
       "      <td>17.400000</td>\n",
       "      <td>19.10000</td>\n",
       "      <td>20.200000</td>\n",
       "      <td>21.2000</td>\n",
       "    </tr>\n",
       "    <tr>\n",
       "      <th>B</th>\n",
       "      <td>315.0</td>\n",
       "      <td>362.446698</td>\n",
       "      <td>83.838849</td>\n",
       "      <td>2.60000</td>\n",
       "      <td>376.910000</td>\n",
       "      <td>392.40000</td>\n",
       "      <td>396.900000</td>\n",
       "      <td>396.9000</td>\n",
       "    </tr>\n",
       "    <tr>\n",
       "      <th>LSTAT</th>\n",
       "      <td>315.0</td>\n",
       "      <td>12.599206</td>\n",
       "      <td>6.987532</td>\n",
       "      <td>1.73000</td>\n",
       "      <td>7.130000</td>\n",
       "      <td>11.28000</td>\n",
       "      <td>16.920000</td>\n",
       "      <td>36.9800</td>\n",
       "    </tr>\n",
       "  </tbody>\n",
       "</table>\n",
       "</div>"
      ],
      "text/plain": [
       "         count        mean         std        min         25%        50%  \\\n",
       "CRIM     315.0    3.729713    9.851193    0.00632    0.073735    0.24522   \n",
       "ZN       315.0   12.179365   24.618918    0.00000    0.000000    0.00000   \n",
       "INDUS    315.0   10.843968    6.880035    0.46000    4.940000    8.56000   \n",
       "CHAS     315.0    0.060317    0.238453    0.00000    0.000000    0.00000   \n",
       "NOX      315.0    0.550091    0.112438    0.38900    0.449000    0.53800   \n",
       "RM       315.0    6.271790    0.671474    3.56100    5.884500    6.19500   \n",
       "AGE      315.0   68.060000   27.905166    2.90000   44.350000   75.00000   \n",
       "DIS      315.0    3.855930    2.086667    1.16910    2.120350    3.31750   \n",
       "RAD      315.0    9.177778    8.555187    1.00000    4.000000    5.00000   \n",
       "TAX      315.0  401.307937  166.486559  187.00000  279.000000  329.00000   \n",
       "PTRATIO  315.0   18.492381    2.173539   12.60000   17.400000   19.10000   \n",
       "B        315.0  362.446698   83.838849    2.60000  376.910000  392.40000   \n",
       "LSTAT    315.0   12.599206    6.987532    1.73000    7.130000   11.28000   \n",
       "\n",
       "                75%       max  \n",
       "CRIM       2.756855   88.9762  \n",
       "ZN        15.000000   95.0000  \n",
       "INDUS     18.100000   27.7400  \n",
       "CHAS       0.000000    1.0000  \n",
       "NOX        0.619000    0.8710  \n",
       "RM         6.577000    8.7250  \n",
       "AGE       93.950000  100.0000  \n",
       "DIS        5.250950   12.1265  \n",
       "RAD        8.000000   24.0000  \n",
       "TAX      666.000000  711.0000  \n",
       "PTRATIO   20.200000   21.2000  \n",
       "B        396.900000  396.9000  \n",
       "LSTAT     16.920000   36.9800  "
      ]
     },
     "execution_count": 136,
     "metadata": {},
     "output_type": "execute_result"
    }
   ],
   "source": [
    "train_stats = train_dataset.describe()\n",
    "train_stats.pop(\"MEDV\")\n",
    "train_stats = train_stats.transpose()\n",
    "train_stats"
   ]
  },
  {
   "cell_type": "markdown",
   "id": "8d7f4c04",
   "metadata": {},
   "source": [
    "Se separa caracteristicas y etiquetas\n",
    "\n",
    "Se separa el valor objetivo, o la \"etiqueta\" de las caracteristicas. Esta etiqueta es el valor que entrenara el modelo para predecir.\n"
   ]
  },
  {
   "cell_type": "code",
   "execution_count": 137,
   "id": "0e80a834",
   "metadata": {},
   "outputs": [],
   "source": [
    "train_labels = train_dataset.pop('MEDV')\n",
    "test_labels = test_dataset.pop('MEDV')"
   ]
  },
  {
   "cell_type": "markdown",
   "id": "c7bf49cf",
   "metadata": {},
   "source": [
    "# Normalizacion de los datos\n",
    "\n"
   ]
  },
  {
   "cell_type": "code",
   "execution_count": 138,
   "id": "8188718c",
   "metadata": {},
   "outputs": [],
   "source": [
    "def norm(x):\n",
    "  return (x - train_stats['mean']) / train_stats['std']\n",
    "normed_train_data = norm(train_dataset)\n",
    "normed_test_data = norm(test_dataset)"
   ]
  },
  {
   "cell_type": "markdown",
   "id": "1c50b02c",
   "metadata": {},
   "source": [
    "# Construcción del modelo Sequential modo 1"
   ]
  },
  {
   "cell_type": "code",
   "execution_count": 139,
   "id": "c39f8a83",
   "metadata": {},
   "outputs": [],
   "source": [
    "model = keras.Sequential([\n",
    "layers.Dense(64, activation='relu', input_shape=(normed_train_data.shape[1],)),\n",
    "layers.Dense(64, activation='relu'),\n",
    "layers.Dense(16, activation='relu'),\n",
    "layers.Dense(8, activation='relu'),\n",
    "layers.Dense(1)\n",
    "])"
   ]
  },
  {
   "cell_type": "markdown",
   "id": "de0108b0",
   "metadata": {},
   "source": [
    "# Compila"
   ]
  },
  {
   "cell_type": "code",
   "execution_count": 140,
   "id": "a42844a6",
   "metadata": {},
   "outputs": [],
   "source": [
    "optimizer = tf.keras.optimizers.RMSprop(0.001)\n",
    "model.compile(loss='mse',\n",
    "                optimizer=optimizer,\n",
    "                metrics=['mae', 'mse'])"
   ]
  },
  {
   "cell_type": "markdown",
   "id": "f555b261",
   "metadata": {},
   "source": [
    "# Summary"
   ]
  },
  {
   "cell_type": "code",
   "execution_count": 141,
   "id": "729a0642",
   "metadata": {},
   "outputs": [
    {
     "name": "stdout",
     "output_type": "stream",
     "text": [
      "Model: \"sequential_6\"\n",
      "_________________________________________________________________\n",
      "Layer (type)                 Output Shape              Param #   \n",
      "=================================================================\n",
      "dense_20 (Dense)             (None, 64)                896       \n",
      "_________________________________________________________________\n",
      "dense_21 (Dense)             (None, 64)                4160      \n",
      "_________________________________________________________________\n",
      "dense_22 (Dense)             (None, 16)                1040      \n",
      "_________________________________________________________________\n",
      "dense_23 (Dense)             (None, 8)                 136       \n",
      "_________________________________________________________________\n",
      "dense_24 (Dense)             (None, 1)                 9         \n",
      "=================================================================\n",
      "Total params: 6,241\n",
      "Trainable params: 6,241\n",
      "Non-trainable params: 0\n",
      "_________________________________________________________________\n"
     ]
    },
    {
     "data": {
      "image/png": "[encoded data removed]",
      "text/plain": [
       "<IPython.core.display.Image object>"
      ]
     },
     "execution_count": 141,
     "metadata": {},
     "output_type": "execute_result"
    }
   ],
   "source": [
    "model.summary()\n",
    "plot_model(model, to_file='redes.png', \n",
    "           show_shapes=True)"
   ]
  },
  {
   "cell_type": "markdown",
   "id": "c586f8dd",
   "metadata": {},
   "source": [
    "# Entrenamiento\n",
    "\n",
    "Entrenar el modelo durante 1000 epochs y registre la precisión de entrenamiento y validación en el objeto history.\n"
   ]
  },
  {
   "cell_type": "code",
   "execution_count": 142,
   "id": "fa1cec2c",
   "metadata": {},
   "outputs": [
    {
     "name": "stdout",
     "output_type": "stream",
     "text": [
      "\n",
      "....................................................................................................\n",
      "....................................................................................................\n",
      "....................................................................................................\n",
      "....................................................................................................\n",
      "....................................................................................................\n",
      "....................................................................................................\n",
      "....................................................................................................\n",
      "....................................................................................................\n",
      "....................................................................................................\n",
      "...................................................................................................."
     ]
    }
   ],
   "source": [
    "# Display training progress by printing a single dot for each completed epoch\n",
    "class PrintDot(keras.callbacks.Callback):\n",
    "  def on_epoch_end(self, epoch, logs):\n",
    "    if epoch % 100 == 0: print('')\n",
    "    print('.', end='')\n",
    "\n",
    "epochs = 1000\n",
    "\n",
    "history = model.fit(\n",
    "  normed_train_data, train_labels,\n",
    "  epochs=epochs, validation_split = 0.2, verbose=0,\n",
    "  callbacks=[PrintDot()])"
   ]
  },
  {
   "cell_type": "code",
   "execution_count": 143,
   "id": "306076e7",
   "metadata": {},
   "outputs": [
    {
     "data": {
      "text/html": [
       "<div>\n",
       "<style scoped>\n",
       "    .dataframe tbody tr th:only-of-type {\n",
       "        vertical-align: middle;\n",
       "    }\n",
       "\n",
       "    .dataframe tbody tr th {\n",
       "        vertical-align: top;\n",
       "    }\n",
       "\n",
       "    .dataframe thead th {\n",
       "        text-align: right;\n",
       "    }\n",
       "</style>\n",
       "<table border=\"1\" class=\"dataframe\">\n",
       "  <thead>\n",
       "    <tr style=\"text-align: right;\">\n",
       "      <th></th>\n",
       "      <th>loss</th>\n",
       "      <th>mae</th>\n",
       "      <th>mse</th>\n",
       "      <th>val_loss</th>\n",
       "      <th>val_mae</th>\n",
       "      <th>val_mse</th>\n",
       "      <th>epoch</th>\n",
       "    </tr>\n",
       "  </thead>\n",
       "  <tbody>\n",
       "    <tr>\n",
       "      <th>995</th>\n",
       "      <td>0.878613</td>\n",
       "      <td>0.729414</td>\n",
       "      <td>0.878613</td>\n",
       "      <td>9.470106</td>\n",
       "      <td>2.378458</td>\n",
       "      <td>9.470106</td>\n",
       "      <td>995</td>\n",
       "    </tr>\n",
       "    <tr>\n",
       "      <th>996</th>\n",
       "      <td>0.574740</td>\n",
       "      <td>0.560565</td>\n",
       "      <td>0.574740</td>\n",
       "      <td>9.414880</td>\n",
       "      <td>2.360088</td>\n",
       "      <td>9.414880</td>\n",
       "      <td>996</td>\n",
       "    </tr>\n",
       "    <tr>\n",
       "      <th>997</th>\n",
       "      <td>0.843374</td>\n",
       "      <td>0.765152</td>\n",
       "      <td>0.843374</td>\n",
       "      <td>9.652677</td>\n",
       "      <td>2.436737</td>\n",
       "      <td>9.652677</td>\n",
       "      <td>997</td>\n",
       "    </tr>\n",
       "    <tr>\n",
       "      <th>998</th>\n",
       "      <td>0.662727</td>\n",
       "      <td>0.620597</td>\n",
       "      <td>0.662727</td>\n",
       "      <td>9.588297</td>\n",
       "      <td>2.370417</td>\n",
       "      <td>9.588297</td>\n",
       "      <td>998</td>\n",
       "    </tr>\n",
       "    <tr>\n",
       "      <th>999</th>\n",
       "      <td>0.822987</td>\n",
       "      <td>0.735656</td>\n",
       "      <td>0.822987</td>\n",
       "      <td>9.697085</td>\n",
       "      <td>2.357530</td>\n",
       "      <td>9.697085</td>\n",
       "      <td>999</td>\n",
       "    </tr>\n",
       "  </tbody>\n",
       "</table>\n",
       "</div>"
      ],
      "text/plain": [
       "         loss       mae       mse  val_loss   val_mae   val_mse  epoch\n",
       "995  0.878613  0.729414  0.878613  9.470106  2.378458  9.470106    995\n",
       "996  0.574740  0.560565  0.574740  9.414880  2.360088  9.414880    996\n",
       "997  0.843374  0.765152  0.843374  9.652677  2.436737  9.652677    997\n",
       "998  0.662727  0.620597  0.662727  9.588297  2.370417  9.588297    998\n",
       "999  0.822987  0.735656  0.822987  9.697085  2.357530  9.697085    999"
      ]
     },
     "execution_count": 143,
     "metadata": {},
     "output_type": "execute_result"
    }
   ],
   "source": [
    "hist = pd.DataFrame(history.history)\n",
    "hist['epoch'] = history.epoch\n",
    "hist.tail()"
   ]
  },
  {
   "cell_type": "code",
   "execution_count": 144,
   "id": "41d47fc1",
   "metadata": {},
   "outputs": [
    {
     "data": {
      "image/png": "[encoded data removed]",
      "text/plain": [
       "<Figure size 432x288 with 1 Axes>"
      ]
     },
     "metadata": {
      "needs_background": "light"
     },
     "output_type": "display_data"
    },
    {
     "data": {
      "image/png": "[encoded data removed]",
      "text/plain": [
       "<Figure size 432x288 with 1 Axes>"
      ]
     },
     "metadata": {
      "needs_background": "light"
     },
     "output_type": "display_data"
    }
   ],
   "source": [
    "def plot_history(history):\n",
    "  hist = pd.DataFrame(history.history)\n",
    "  hist['epoch'] = history.epoch\n",
    "\n",
    "  plt.figure()\n",
    "  plt.xlabel('Epoch')\n",
    "  plt.ylabel('Mean Abs Error [MEDV]')\n",
    "  plt.plot(hist['epoch'], hist['mae'],\n",
    "           label='Train Error')\n",
    "  plt.plot(hist['epoch'], hist['val_mae'],\n",
    "           label = 'Val Error')\n",
    "  plt.ylim([0,5])\n",
    "  plt.legend()\n",
    "\n",
    "  plt.figure()\n",
    "  plt.xlabel('Epoch')\n",
    "  plt.ylabel('Mean Square Error [$MEDV^2$]')\n",
    "  plt.plot(hist['epoch'], hist['mse'],\n",
    "           label='Train Error')\n",
    "  plt.plot(hist['epoch'], hist['val_mse'],\n",
    "           label = 'Val Error')\n",
    "  plt.ylim([0,20])\n",
    "  plt.legend()\n",
    "  plt.show()\n",
    "\n",
    "\n",
    "plot_history(history)"
   ]
  },
  {
   "cell_type": "code",
   "execution_count": 145,
   "id": "6b0aa21f",
   "metadata": {},
   "outputs": [
    {
     "name": "stdout",
     "output_type": "stream",
     "text": [
      "\n",
      "................."
     ]
    },
    {
     "data": {
      "image/png": "[encoded data removed]",
      "text/plain": [
       "<Figure size 432x288 with 1 Axes>"
      ]
     },
     "metadata": {
      "needs_background": "light"
     },
     "output_type": "display_data"
    },
    {
     "data": {
      "image/png": "[encoded data removed]",
      "text/plain": [
       "<Figure size 432x288 with 1 Axes>"
      ]
     },
     "metadata": {
      "needs_background": "light"
     },
     "output_type": "display_data"
    }
   ],
   "source": [
    "# The patience parameter is the amount of epochs to check for improvement\n",
    "early_stop = keras.callbacks.EarlyStopping(monitor='val_loss', patience=10)\n",
    "\n",
    "history = model.fit(normed_train_data, train_labels, epochs=epochs,\n",
    "                    validation_split = 0.2, verbose=0, callbacks=[early_stop, PrintDot()])\n",
    "\n",
    "plot_history(history)"
   ]
  },
  {
   "cell_type": "code",
   "execution_count": 146,
   "id": "015f33ca",
   "metadata": {},
   "outputs": [
    {
     "name": "stdout",
     "output_type": "stream",
     "text": [
      "3/3 - 0s - loss: 28.2086 - mae: 3.0331 - mse: 28.2086\n",
      "Testing set Mean Abs Error:  3.03 MPG\n"
     ]
    }
   ],
   "source": [
    "loss, mae, mse = model.evaluate(normed_test_data, test_labels, verbose=2)\n",
    "\n",
    "print(\"Testing set Mean Abs Error: {:5.2f} MPG\".format(mae))"
   ]
  },
  {
   "cell_type": "markdown",
   "id": "f62c1c4a",
   "metadata": {},
   "source": [
    "# Predicciones\n",
    "\n",
    "Finalmente, prediga los valores de MVE utilizando datos en el conjunto de pruebas:\n"
   ]
  },
  {
   "cell_type": "code",
   "execution_count": 147,
   "id": "00cc2c6e",
   "metadata": {},
   "outputs": [
    {
     "name": "stdout",
     "output_type": "stream",
     "text": [
      "WARNING:tensorflow:5 out of the last 13 calls to <function Model.make_predict_function.<locals>.predict_function at 0x7f39d20c5310> triggered tf.function retracing. Tracing is expensive and the excessive number of tracings could be due to (1) creating @tf.function repeatedly in a loop, (2) passing tensors with different shapes, (3) passing Python objects instead of tensors. For (1), please define your @tf.function outside of the loop. For (2), @tf.function has experimental_relax_shapes=True option that relaxes argument shapes that can avoid unnecessary retracing. For (3), please refer to https://www.tensorflow.org/tutorials/customization/performance#python_or_tensor_args and https://www.tensorflow.org/api_docs/python/tf/function for  more details.\n"
     ]
    },
    {
     "data": {
      "image/png": "[encoded data removed]",
      "text/plain": [
       "<Figure size 432x288 with 1 Axes>"
      ]
     },
     "metadata": {
      "needs_background": "light"
     },
     "output_type": "display_data"
    }
   ],
   "source": [
    "test_predictions = model.predict(normed_test_data).flatten()\n",
    "\n",
    "plt.scatter(test_labels, test_predictions)\n",
    "plt.xlabel('True Values [MVE]')\n",
    "plt.ylabel('Predictions [MVE]')\n",
    "plt.axis('equal')\n",
    "plt.axis('square')\n",
    "plt.xlim([0,plt.xlim()[1]])\n",
    "plt.ylim([0,plt.ylim()[1]])\n",
    "_ = plt.plot([-100, 100], [-100, 100])\n"
   ]
  },
  {
   "cell_type": "code",
   "execution_count": 148,
   "id": "f2781a8c",
   "metadata": {},
   "outputs": [
    {
     "data": {
      "image/png": "[encoded data removed]",
      "text/plain": [
       "<Figure size 432x288 with 1 Axes>"
      ]
     },
     "metadata": {
      "needs_background": "light"
     },
     "output_type": "display_data"
    }
   ],
   "source": [
    "error = test_predictions - test_labels\n",
    "plt.hist(error, bins = 25)\n",
    "plt.xlabel(\"Prediction Error [MVE]\")\n",
    "_ = plt.ylabel(\"Count\")"
   ]
  },
  {
   "cell_type": "code",
   "execution_count": null,
   "id": "f6ddca59",
   "metadata": {},
   "outputs": [],
   "source": []
  }
 ],
 "metadata": {
  "kernelspec": {
   "display_name": "Python 3",
   "language": "python",
   "name": "python3"
  },
  "language_info": {
   "codemirror_mode": {
    "name": "ipython",
    "version": 3
   },
   "file_extension": ".py",
   "mimetype": "text/x-python",
   "name": "python",
   "nbconvert_exporter": "python",
   "pygments_lexer": "ipython3",
   "version": "3.8.5"
  }
 },
 "nbformat": 4,
 "nbformat_minor": 5
}
